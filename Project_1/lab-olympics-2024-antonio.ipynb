{
 "cells": [
  {
   "cell_type": "code",
   "execution_count": 5,
   "id": "a993334d",
   "metadata": {
    "execution": {
     "iopub.execute_input": "2024-11-18T08:51:08.489199Z",
     "iopub.status.busy": "2024-11-18T08:51:08.488757Z",
     "iopub.status.idle": "2024-11-18T08:51:11.191440Z",
     "shell.execute_reply": "2024-11-18T08:51:11.190320Z"
    },
    "papermill": {
     "duration": 2.715236,
     "end_time": "2024-11-18T08:51:11.194226",
     "exception": false,
     "start_time": "2024-11-18T08:51:08.478990",
     "status": "completed"
    },
    "tags": []
   },
   "outputs": [],
   "source": [
    "#import libraries\n",
    "\n",
    "import pandas as pd\n",
    "import numpy as np\n",
    "import matplotlib.pylab as plt\n",
    "from matplotlib import pyplot\n",
    "import seaborn as sns"
   ]
  },
  {
   "cell_type": "markdown",
   "id": "56d5aabd",
   "metadata": {
    "papermill": {
     "duration": 0.005923,
     "end_time": "2024-11-18T08:51:11.206632",
     "exception": false,
     "start_time": "2024-11-18T08:51:11.200709",
     "status": "completed"
    },
    "tags": []
   },
   "source": [
    "# **1. LOAD DATASET**"
   ]
  },
  {
   "cell_type": "code",
   "execution_count": 6,
   "id": "89cb7290",
   "metadata": {
    "execution": {
     "iopub.execute_input": "2024-11-18T08:51:11.220468Z",
     "iopub.status.busy": "2024-11-18T08:51:11.219896Z",
     "iopub.status.idle": "2024-11-18T08:51:11.326243Z",
     "shell.execute_reply": "2024-11-18T08:51:11.325077Z"
    },
    "papermill": {
     "duration": 0.116385,
     "end_time": "2024-11-18T08:51:11.328937",
     "exception": false,
     "start_time": "2024-11-18T08:51:11.212552",
     "status": "completed"
    },
    "tags": []
   },
   "outputs": [],
   "source": [
    "df = pd.read_csv(\"athletes new.csv\")"
   ]
  },
  {
   "cell_type": "markdown",
   "id": "2b868145",
   "metadata": {
    "papermill": {
     "duration": 0.005751,
     "end_time": "2024-11-18T08:51:11.340782",
     "exception": false,
     "start_time": "2024-11-18T08:51:11.335031",
     "status": "completed"
    },
    "tags": []
   },
   "source": [
    "# **2. GENERAL INFORMATION USING METHODS AS**: HEAD, SHAPE, DESCRIBE, INFO, COLUMNS"
   ]
  },
  {
   "cell_type": "code",
   "execution_count": 7,
   "id": "45d95b2a",
   "metadata": {
    "execution": {
     "iopub.execute_input": "2024-11-18T08:51:11.356010Z",
     "iopub.status.busy": "2024-11-18T08:51:11.355598Z",
     "iopub.status.idle": "2024-11-18T08:51:11.387018Z",
     "shell.execute_reply": "2024-11-18T08:51:11.385631Z"
    },
    "papermill": {
     "duration": 0.042145,
     "end_time": "2024-11-18T08:51:11.389585",
     "exception": false,
     "start_time": "2024-11-18T08:51:11.347440",
     "status": "completed"
    },
    "tags": []
   },
   "outputs": [
    {
     "data": {
      "text/html": [
       "<div>\n",
       "<style scoped>\n",
       "    .dataframe tbody tr th:only-of-type {\n",
       "        vertical-align: middle;\n",
       "    }\n",
       "\n",
       "    .dataframe tbody tr th {\n",
       "        vertical-align: top;\n",
       "    }\n",
       "\n",
       "    .dataframe thead th {\n",
       "        text-align: right;\n",
       "    }\n",
       "</style>\n",
       "<table border=\"1\" class=\"dataframe\">\n",
       "  <thead>\n",
       "    <tr style=\"text-align: right;\">\n",
       "      <th></th>\n",
       "      <th>code</th>\n",
       "      <th>name</th>\n",
       "      <th>name_short</th>\n",
       "      <th>name_tv</th>\n",
       "      <th>gender</th>\n",
       "      <th>function</th>\n",
       "      <th>country_code</th>\n",
       "      <th>country</th>\n",
       "      <th>country_full</th>\n",
       "      <th>nationality</th>\n",
       "      <th>nationality_full</th>\n",
       "      <th>nationality_code</th>\n",
       "      <th>height</th>\n",
       "      <th>weight</th>\n",
       "      <th>disciplines</th>\n",
       "      <th>events</th>\n",
       "      <th>birth_date</th>\n",
       "    </tr>\n",
       "  </thead>\n",
       "  <tbody>\n",
       "    <tr>\n",
       "      <th>0</th>\n",
       "      <td>1535420</td>\n",
       "      <td>VALENCIA Alejandra</td>\n",
       "      <td>VALENCIA A</td>\n",
       "      <td>Alejandra VALENCIA</td>\n",
       "      <td>Female</td>\n",
       "      <td>Athlete</td>\n",
       "      <td>MEX</td>\n",
       "      <td>Mexico</td>\n",
       "      <td>Mexico</td>\n",
       "      <td>Mexico</td>\n",
       "      <td>Mexico</td>\n",
       "      <td>MEX</td>\n",
       "      <td>0</td>\n",
       "      <td>0.0</td>\n",
       "      <td>['Archery']</td>\n",
       "      <td>[\"Women's Individual\", \"Women's Team\", 'Mixed ...</td>\n",
       "      <td>1994-10-17</td>\n",
       "    </tr>\n",
       "    <tr>\n",
       "      <th>1</th>\n",
       "      <td>1535429</td>\n",
       "      <td>RUIZ Angela</td>\n",
       "      <td>RUIZ A</td>\n",
       "      <td>Angela RUIZ</td>\n",
       "      <td>Female</td>\n",
       "      <td>Athlete</td>\n",
       "      <td>MEX</td>\n",
       "      <td>Mexico</td>\n",
       "      <td>Mexico</td>\n",
       "      <td>Mexico</td>\n",
       "      <td>Mexico</td>\n",
       "      <td>MEX</td>\n",
       "      <td>0</td>\n",
       "      <td>0.0</td>\n",
       "      <td>['Archery']</td>\n",
       "      <td>[\"Women's Individual\", \"Women's Team\"]</td>\n",
       "      <td>2006-07-28</td>\n",
       "    </tr>\n",
       "    <tr>\n",
       "      <th>2</th>\n",
       "      <td>1535430</td>\n",
       "      <td>GRANDE Matias</td>\n",
       "      <td>GRANDE M</td>\n",
       "      <td>Matias GRANDE</td>\n",
       "      <td>Male</td>\n",
       "      <td>Athlete</td>\n",
       "      <td>MEX</td>\n",
       "      <td>Mexico</td>\n",
       "      <td>Mexico</td>\n",
       "      <td>Mexico</td>\n",
       "      <td>Mexico</td>\n",
       "      <td>MEX</td>\n",
       "      <td>0</td>\n",
       "      <td>0.0</td>\n",
       "      <td>['Archery']</td>\n",
       "      <td>[\"Men's Individual\", \"Men's Team\", 'Mixed Team']</td>\n",
       "      <td>2004-04-26</td>\n",
       "    </tr>\n",
       "    <tr>\n",
       "      <th>3</th>\n",
       "      <td>1536460</td>\n",
       "      <td>ROJAS Carlos</td>\n",
       "      <td>ROJAS C</td>\n",
       "      <td>Carlos ROJAS</td>\n",
       "      <td>Male</td>\n",
       "      <td>Athlete</td>\n",
       "      <td>MEX</td>\n",
       "      <td>Mexico</td>\n",
       "      <td>Mexico</td>\n",
       "      <td>Mexico</td>\n",
       "      <td>Mexico</td>\n",
       "      <td>MEX</td>\n",
       "      <td>0</td>\n",
       "      <td>0.0</td>\n",
       "      <td>['Archery']</td>\n",
       "      <td>[\"Men's Individual\", \"Men's Team\"]</td>\n",
       "      <td>2000-01-14</td>\n",
       "    </tr>\n",
       "    <tr>\n",
       "      <th>4</th>\n",
       "      <td>1536467</td>\n",
       "      <td>MARTINEZ WING Bruno</td>\n",
       "      <td>MARTINEZ WING B</td>\n",
       "      <td>Bruno MARTINEZ WING</td>\n",
       "      <td>Male</td>\n",
       "      <td>Athlete</td>\n",
       "      <td>MEX</td>\n",
       "      <td>Mexico</td>\n",
       "      <td>Mexico</td>\n",
       "      <td>Mexico</td>\n",
       "      <td>Mexico</td>\n",
       "      <td>MEX</td>\n",
       "      <td>0</td>\n",
       "      <td>0.0</td>\n",
       "      <td>['Archery']</td>\n",
       "      <td>[\"Men's Individual\", \"Men's Team\"]</td>\n",
       "      <td>1998-03-08</td>\n",
       "    </tr>\n",
       "  </tbody>\n",
       "</table>\n",
       "</div>"
      ],
      "text/plain": [
       "      code                 name       name_short              name_tv  gender  \\\n",
       "0  1535420   VALENCIA Alejandra       VALENCIA A   Alejandra VALENCIA  Female   \n",
       "1  1535429          RUIZ Angela           RUIZ A          Angela RUIZ  Female   \n",
       "2  1535430        GRANDE Matias         GRANDE M        Matias GRANDE    Male   \n",
       "3  1536460         ROJAS Carlos          ROJAS C         Carlos ROJAS    Male   \n",
       "4  1536467  MARTINEZ WING Bruno  MARTINEZ WING B  Bruno MARTINEZ WING    Male   \n",
       "\n",
       "  function country_code country country_full nationality nationality_full  \\\n",
       "0  Athlete          MEX  Mexico       Mexico      Mexico           Mexico   \n",
       "1  Athlete          MEX  Mexico       Mexico      Mexico           Mexico   \n",
       "2  Athlete          MEX  Mexico       Mexico      Mexico           Mexico   \n",
       "3  Athlete          MEX  Mexico       Mexico      Mexico           Mexico   \n",
       "4  Athlete          MEX  Mexico       Mexico      Mexico           Mexico   \n",
       "\n",
       "  nationality_code  height  weight  disciplines  \\\n",
       "0              MEX       0     0.0  ['Archery']   \n",
       "1              MEX       0     0.0  ['Archery']   \n",
       "2              MEX       0     0.0  ['Archery']   \n",
       "3              MEX       0     0.0  ['Archery']   \n",
       "4              MEX       0     0.0  ['Archery']   \n",
       "\n",
       "                                              events  birth_date  \n",
       "0  [\"Women's Individual\", \"Women's Team\", 'Mixed ...  1994-10-17  \n",
       "1             [\"Women's Individual\", \"Women's Team\"]  2006-07-28  \n",
       "2   [\"Men's Individual\", \"Men's Team\", 'Mixed Team']  2004-04-26  \n",
       "3                 [\"Men's Individual\", \"Men's Team\"]  2000-01-14  \n",
       "4                 [\"Men's Individual\", \"Men's Team\"]  1998-03-08  "
      ]
     },
     "execution_count": 7,
     "metadata": {},
     "output_type": "execute_result"
    }
   ],
   "source": [
    "#The first 5 rows of the dataframe\n",
    "\n",
    "df.head(5)"
   ]
  },
  {
   "cell_type": "code",
   "execution_count": 8,
   "id": "07bf7a54",
   "metadata": {
    "execution": {
     "iopub.execute_input": "2024-11-18T08:51:11.405336Z",
     "iopub.status.busy": "2024-11-18T08:51:11.404880Z",
     "iopub.status.idle": "2024-11-18T08:51:11.412732Z",
     "shell.execute_reply": "2024-11-18T08:51:11.411536Z"
    },
    "papermill": {
     "duration": 0.018001,
     "end_time": "2024-11-18T08:51:11.415174",
     "exception": false,
     "start_time": "2024-11-18T08:51:11.397173",
     "status": "completed"
    },
    "tags": []
   },
   "outputs": [
    {
     "data": {
      "text/plain": [
       "Index(['code', 'name', 'name_short', 'name_tv', 'gender', 'function',\n",
       "       'country_code', 'country', 'country_full', 'nationality',\n",
       "       'nationality_full', 'nationality_code', 'height', 'weight',\n",
       "       'disciplines', 'events', 'birth_date'],\n",
       "      dtype='object')"
      ]
     },
     "execution_count": 8,
     "metadata": {},
     "output_type": "execute_result"
    }
   ],
   "source": [
    "#Headers dataframe\n",
    "df.columns"
   ]
  },
  {
   "cell_type": "code",
   "execution_count": 9,
   "id": "db0cf18f",
   "metadata": {
    "execution": {
     "iopub.execute_input": "2024-11-18T08:51:11.430337Z",
     "iopub.status.busy": "2024-11-18T08:51:11.429862Z",
     "iopub.status.idle": "2024-11-18T08:51:11.437596Z",
     "shell.execute_reply": "2024-11-18T08:51:11.436154Z"
    },
    "papermill": {
     "duration": 0.018165,
     "end_time": "2024-11-18T08:51:11.440087",
     "exception": false,
     "start_time": "2024-11-18T08:51:11.421922",
     "status": "completed"
    },
    "tags": []
   },
   "outputs": [
    {
     "data": {
      "text/plain": [
       "(11115, 17)"
      ]
     },
     "execution_count": 9,
     "metadata": {},
     "output_type": "execute_result"
    }
   ],
   "source": [
    "df.shape"
   ]
  },
  {
   "cell_type": "code",
   "execution_count": 10,
   "id": "df0a1df2",
   "metadata": {
    "execution": {
     "iopub.execute_input": "2024-11-18T08:51:11.455158Z",
     "iopub.status.busy": "2024-11-18T08:51:11.454740Z",
     "iopub.status.idle": "2024-11-18T08:51:11.490271Z",
     "shell.execute_reply": "2024-11-18T08:51:11.489202Z"
    },
    "papermill": {
     "duration": 0.046411,
     "end_time": "2024-11-18T08:51:11.493136",
     "exception": false,
     "start_time": "2024-11-18T08:51:11.446725",
     "status": "completed"
    },
    "tags": []
   },
   "outputs": [
    {
     "name": "stdout",
     "output_type": "stream",
     "text": [
      "<class 'pandas.core.frame.DataFrame'>\n",
      "RangeIndex: 11115 entries, 0 to 11114\n",
      "Data columns (total 17 columns):\n",
      " #   Column            Non-Null Count  Dtype  \n",
      "---  ------            --------------  -----  \n",
      " 0   code              11115 non-null  int64  \n",
      " 1   name              11115 non-null  object \n",
      " 2   name_short        11115 non-null  object \n",
      " 3   name_tv           11115 non-null  object \n",
      " 4   gender            11115 non-null  object \n",
      " 5   function          11115 non-null  object \n",
      " 6   country_code      11115 non-null  object \n",
      " 7   country           11115 non-null  object \n",
      " 8   country_full      11115 non-null  object \n",
      " 9   nationality       11115 non-null  object \n",
      " 10  nationality_full  11115 non-null  object \n",
      " 11  nationality_code  11115 non-null  object \n",
      " 12  height            11115 non-null  int64  \n",
      " 13  weight            11099 non-null  float64\n",
      " 14  disciplines       11115 non-null  object \n",
      " 15  events            11115 non-null  object \n",
      " 16  birth_date        11115 non-null  object \n",
      "dtypes: float64(1), int64(2), object(14)\n",
      "memory usage: 1.4+ MB\n"
     ]
    }
   ],
   "source": [
    "df.info()"
   ]
  },
  {
   "cell_type": "code",
   "execution_count": 11,
   "id": "7bb82aea",
   "metadata": {
    "execution": {
     "iopub.execute_input": "2024-11-18T08:51:11.508996Z",
     "iopub.status.busy": "2024-11-18T08:51:11.508175Z",
     "iopub.status.idle": "2024-11-18T08:51:11.532730Z",
     "shell.execute_reply": "2024-11-18T08:51:11.531350Z"
    },
    "papermill": {
     "duration": 0.035276,
     "end_time": "2024-11-18T08:51:11.535475",
     "exception": false,
     "start_time": "2024-11-18T08:51:11.500199",
     "status": "completed"
    },
    "tags": []
   },
   "outputs": [
    {
     "data": {
      "text/html": [
       "<div>\n",
       "<style scoped>\n",
       "    .dataframe tbody tr th:only-of-type {\n",
       "        vertical-align: middle;\n",
       "    }\n",
       "\n",
       "    .dataframe tbody tr th {\n",
       "        vertical-align: top;\n",
       "    }\n",
       "\n",
       "    .dataframe thead th {\n",
       "        text-align: right;\n",
       "    }\n",
       "</style>\n",
       "<table border=\"1\" class=\"dataframe\">\n",
       "  <thead>\n",
       "    <tr style=\"text-align: right;\">\n",
       "      <th></th>\n",
       "      <th>code</th>\n",
       "      <th>height</th>\n",
       "      <th>weight</th>\n",
       "    </tr>\n",
       "  </thead>\n",
       "  <tbody>\n",
       "    <tr>\n",
       "      <th>count</th>\n",
       "      <td>1.111500e+04</td>\n",
       "      <td>11115.000000</td>\n",
       "      <td>11099.000000</td>\n",
       "    </tr>\n",
       "    <tr>\n",
       "      <th>mean</th>\n",
       "      <td>1.887426e+06</td>\n",
       "      <td>81.835178</td>\n",
       "      <td>2.213713</td>\n",
       "    </tr>\n",
       "    <tr>\n",
       "      <th>std</th>\n",
       "      <td>3.587687e+05</td>\n",
       "      <td>89.504711</td>\n",
       "      <td>13.114771</td>\n",
       "    </tr>\n",
       "    <tr>\n",
       "      <th>min</th>\n",
       "      <td>1.532872e+06</td>\n",
       "      <td>0.000000</td>\n",
       "      <td>0.000000</td>\n",
       "    </tr>\n",
       "    <tr>\n",
       "      <th>25%</th>\n",
       "      <td>1.888186e+06</td>\n",
       "      <td>0.000000</td>\n",
       "      <td>0.000000</td>\n",
       "    </tr>\n",
       "    <tr>\n",
       "      <th>50%</th>\n",
       "      <td>1.918842e+06</td>\n",
       "      <td>0.000000</td>\n",
       "      <td>0.000000</td>\n",
       "    </tr>\n",
       "    <tr>\n",
       "      <th>75%</th>\n",
       "      <td>1.948950e+06</td>\n",
       "      <td>177.000000</td>\n",
       "      <td>0.000000</td>\n",
       "    </tr>\n",
       "    <tr>\n",
       "      <th>max</th>\n",
       "      <td>9.460001e+06</td>\n",
       "      <td>222.000000</td>\n",
       "      <td>113.000000</td>\n",
       "    </tr>\n",
       "  </tbody>\n",
       "</table>\n",
       "</div>"
      ],
      "text/plain": [
       "               code        height        weight\n",
       "count  1.111500e+04  11115.000000  11099.000000\n",
       "mean   1.887426e+06     81.835178      2.213713\n",
       "std    3.587687e+05     89.504711     13.114771\n",
       "min    1.532872e+06      0.000000      0.000000\n",
       "25%    1.888186e+06      0.000000      0.000000\n",
       "50%    1.918842e+06      0.000000      0.000000\n",
       "75%    1.948950e+06    177.000000      0.000000\n",
       "max    9.460001e+06    222.000000    113.000000"
      ]
     },
     "execution_count": 11,
     "metadata": {},
     "output_type": "execute_result"
    }
   ],
   "source": [
    "df.describe()"
   ]
  },
  {
   "cell_type": "markdown",
   "id": "b548fdef",
   "metadata": {
    "papermill": {
     "duration": 0.00664,
     "end_time": "2024-11-18T08:51:11.549096",
     "exception": false,
     "start_time": "2024-11-18T08:51:11.542456",
     "status": "completed"
    },
    "tags": []
   },
   "source": [
    "\n",
    "# **3. IDENTIFY MISSING VALUES**"
   ]
  },
  {
   "cell_type": "code",
   "execution_count": 12,
   "id": "d3899509",
   "metadata": {
    "execution": {
     "iopub.execute_input": "2024-11-18T08:51:11.564654Z",
     "iopub.status.busy": "2024-11-18T08:51:11.564192Z",
     "iopub.status.idle": "2024-11-18T08:51:11.592119Z",
     "shell.execute_reply": "2024-11-18T08:51:11.591011Z"
    },
    "papermill": {
     "duration": 0.038521,
     "end_time": "2024-11-18T08:51:11.594529",
     "exception": false,
     "start_time": "2024-11-18T08:51:11.556008",
     "status": "completed"
    },
    "tags": []
   },
   "outputs": [
    {
     "data": {
      "text/html": [
       "<div>\n",
       "<style scoped>\n",
       "    .dataframe tbody tr th:only-of-type {\n",
       "        vertical-align: middle;\n",
       "    }\n",
       "\n",
       "    .dataframe tbody tr th {\n",
       "        vertical-align: top;\n",
       "    }\n",
       "\n",
       "    .dataframe thead th {\n",
       "        text-align: right;\n",
       "    }\n",
       "</style>\n",
       "<table border=\"1\" class=\"dataframe\">\n",
       "  <thead>\n",
       "    <tr style=\"text-align: right;\">\n",
       "      <th></th>\n",
       "      <th>code</th>\n",
       "      <th>name</th>\n",
       "      <th>name_short</th>\n",
       "      <th>name_tv</th>\n",
       "      <th>gender</th>\n",
       "      <th>function</th>\n",
       "      <th>country_code</th>\n",
       "      <th>country</th>\n",
       "      <th>country_full</th>\n",
       "      <th>nationality</th>\n",
       "      <th>nationality_full</th>\n",
       "      <th>nationality_code</th>\n",
       "      <th>height</th>\n",
       "      <th>weight</th>\n",
       "      <th>disciplines</th>\n",
       "      <th>events</th>\n",
       "      <th>birth_date</th>\n",
       "    </tr>\n",
       "  </thead>\n",
       "  <tbody>\n",
       "    <tr>\n",
       "      <th>0</th>\n",
       "      <td>False</td>\n",
       "      <td>False</td>\n",
       "      <td>False</td>\n",
       "      <td>False</td>\n",
       "      <td>False</td>\n",
       "      <td>False</td>\n",
       "      <td>False</td>\n",
       "      <td>False</td>\n",
       "      <td>False</td>\n",
       "      <td>False</td>\n",
       "      <td>False</td>\n",
       "      <td>False</td>\n",
       "      <td>False</td>\n",
       "      <td>False</td>\n",
       "      <td>False</td>\n",
       "      <td>False</td>\n",
       "      <td>False</td>\n",
       "    </tr>\n",
       "    <tr>\n",
       "      <th>1</th>\n",
       "      <td>False</td>\n",
       "      <td>False</td>\n",
       "      <td>False</td>\n",
       "      <td>False</td>\n",
       "      <td>False</td>\n",
       "      <td>False</td>\n",
       "      <td>False</td>\n",
       "      <td>False</td>\n",
       "      <td>False</td>\n",
       "      <td>False</td>\n",
       "      <td>False</td>\n",
       "      <td>False</td>\n",
       "      <td>False</td>\n",
       "      <td>False</td>\n",
       "      <td>False</td>\n",
       "      <td>False</td>\n",
       "      <td>False</td>\n",
       "    </tr>\n",
       "    <tr>\n",
       "      <th>2</th>\n",
       "      <td>False</td>\n",
       "      <td>False</td>\n",
       "      <td>False</td>\n",
       "      <td>False</td>\n",
       "      <td>False</td>\n",
       "      <td>False</td>\n",
       "      <td>False</td>\n",
       "      <td>False</td>\n",
       "      <td>False</td>\n",
       "      <td>False</td>\n",
       "      <td>False</td>\n",
       "      <td>False</td>\n",
       "      <td>False</td>\n",
       "      <td>False</td>\n",
       "      <td>False</td>\n",
       "      <td>False</td>\n",
       "      <td>False</td>\n",
       "    </tr>\n",
       "    <tr>\n",
       "      <th>3</th>\n",
       "      <td>False</td>\n",
       "      <td>False</td>\n",
       "      <td>False</td>\n",
       "      <td>False</td>\n",
       "      <td>False</td>\n",
       "      <td>False</td>\n",
       "      <td>False</td>\n",
       "      <td>False</td>\n",
       "      <td>False</td>\n",
       "      <td>False</td>\n",
       "      <td>False</td>\n",
       "      <td>False</td>\n",
       "      <td>False</td>\n",
       "      <td>False</td>\n",
       "      <td>False</td>\n",
       "      <td>False</td>\n",
       "      <td>False</td>\n",
       "    </tr>\n",
       "    <tr>\n",
       "      <th>4</th>\n",
       "      <td>False</td>\n",
       "      <td>False</td>\n",
       "      <td>False</td>\n",
       "      <td>False</td>\n",
       "      <td>False</td>\n",
       "      <td>False</td>\n",
       "      <td>False</td>\n",
       "      <td>False</td>\n",
       "      <td>False</td>\n",
       "      <td>False</td>\n",
       "      <td>False</td>\n",
       "      <td>False</td>\n",
       "      <td>False</td>\n",
       "      <td>False</td>\n",
       "      <td>False</td>\n",
       "      <td>False</td>\n",
       "      <td>False</td>\n",
       "    </tr>\n",
       "  </tbody>\n",
       "</table>\n",
       "</div>"
      ],
      "text/plain": [
       "    code   name  name_short  name_tv  gender  function  country_code  country  \\\n",
       "0  False  False       False    False   False     False         False    False   \n",
       "1  False  False       False    False   False     False         False    False   \n",
       "2  False  False       False    False   False     False         False    False   \n",
       "3  False  False       False    False   False     False         False    False   \n",
       "4  False  False       False    False   False     False         False    False   \n",
       "\n",
       "   country_full  nationality  nationality_full  nationality_code  height  \\\n",
       "0         False        False             False             False   False   \n",
       "1         False        False             False             False   False   \n",
       "2         False        False             False             False   False   \n",
       "3         False        False             False             False   False   \n",
       "4         False        False             False             False   False   \n",
       "\n",
       "   weight  disciplines  events  birth_date  \n",
       "0   False        False   False       False  \n",
       "1   False        False   False       False  \n",
       "2   False        False   False       False  \n",
       "3   False        False   False       False  \n",
       "4   False        False   False       False  "
      ]
     },
     "execution_count": 12,
     "metadata": {},
     "output_type": "execute_result"
    }
   ],
   "source": [
    "#Evaluation for missing data\n",
    "\n",
    "missing_data = df.isnull()\n",
    "missing_data.head(5)"
   ]
  },
  {
   "cell_type": "code",
   "execution_count": 13,
   "id": "3807bc82",
   "metadata": {
    "execution": {
     "iopub.execute_input": "2024-11-18T08:51:11.611265Z",
     "iopub.status.busy": "2024-11-18T08:51:11.610356Z",
     "iopub.status.idle": "2024-11-18T08:51:11.635924Z",
     "shell.execute_reply": "2024-11-18T08:51:11.634625Z"
    },
    "papermill": {
     "duration": 0.037363,
     "end_time": "2024-11-18T08:51:11.639157",
     "exception": false,
     "start_time": "2024-11-18T08:51:11.601794",
     "status": "completed"
    },
    "tags": []
   },
   "outputs": [
    {
     "name": "stdout",
     "output_type": "stream",
     "text": [
      "code\n",
      "code\n",
      "False    11115\n",
      "Name: count, dtype: int64\n",
      "________________________________\n",
      "name\n",
      "name\n",
      "False    11115\n",
      "Name: count, dtype: int64\n",
      "________________________________\n",
      "name_short\n",
      "name_short\n",
      "False    11115\n",
      "Name: count, dtype: int64\n",
      "________________________________\n",
      "name_tv\n",
      "name_tv\n",
      "False    11115\n",
      "Name: count, dtype: int64\n",
      "________________________________\n",
      "gender\n",
      "gender\n",
      "False    11115\n",
      "Name: count, dtype: int64\n",
      "________________________________\n",
      "function\n",
      "function\n",
      "False    11115\n",
      "Name: count, dtype: int64\n",
      "________________________________\n",
      "country_code\n",
      "country_code\n",
      "False    11115\n",
      "Name: count, dtype: int64\n",
      "________________________________\n",
      "country\n",
      "country\n",
      "False    11115\n",
      "Name: count, dtype: int64\n",
      "________________________________\n",
      "country_full\n",
      "country_full\n",
      "False    11115\n",
      "Name: count, dtype: int64\n",
      "________________________________\n",
      "nationality\n",
      "nationality\n",
      "False    11115\n",
      "Name: count, dtype: int64\n",
      "________________________________\n",
      "nationality_full\n",
      "nationality_full\n",
      "False    11115\n",
      "Name: count, dtype: int64\n",
      "________________________________\n",
      "nationality_code\n",
      "nationality_code\n",
      "False    11115\n",
      "Name: count, dtype: int64\n",
      "________________________________\n",
      "height\n",
      "height\n",
      "False    11115\n",
      "Name: count, dtype: int64\n",
      "________________________________\n",
      "weight\n",
      "weight\n",
      "False    11099\n",
      "True        16\n",
      "Name: count, dtype: int64\n",
      "________________________________\n",
      "disciplines\n",
      "disciplines\n",
      "False    11115\n",
      "Name: count, dtype: int64\n",
      "________________________________\n",
      "events\n",
      "events\n",
      "False    11115\n",
      "Name: count, dtype: int64\n",
      "________________________________\n",
      "birth_date\n",
      "birth_date\n",
      "False    11115\n",
      "Name: count, dtype: int64\n",
      "________________________________\n"
     ]
    }
   ],
   "source": [
    "#As mentioned above, \"True\" represents a missing value and \"False\" means the value is present in the data set.  \n",
    "#In the body of the for loop the method \".value_counts()\" counts the number of \"True\" values. \n",
    "\n",
    "for colum in missing_data.columns.values.tolist():\n",
    "    print(colum)\n",
    "    print(missing_data[colum].value_counts())\n",
    "    print(\"________________________________\")"
   ]
  },
  {
   "cell_type": "code",
   "execution_count": 14,
   "id": "07480f9d",
   "metadata": {
    "execution": {
     "iopub.execute_input": "2024-11-18T08:51:11.655653Z",
     "iopub.status.busy": "2024-11-18T08:51:11.655188Z",
     "iopub.status.idle": "2024-11-18T08:51:11.662291Z",
     "shell.execute_reply": "2024-11-18T08:51:11.661044Z"
    },
    "papermill": {
     "duration": 0.018382,
     "end_time": "2024-11-18T08:51:11.664854",
     "exception": false,
     "start_time": "2024-11-18T08:51:11.646472",
     "status": "completed"
    },
    "tags": []
   },
   "outputs": [
    {
     "name": "stdout",
     "output_type": "stream",
     "text": [
      "Number of entries with missing values in the 'weight' column: 16\n"
     ]
    }
   ],
   "source": [
    "# Number of entries with missing values in the 'weight'\n",
    "missing_data_weight = missing_data['weight'].sum()\n",
    "print(f\"Number of entries with missing values in the 'weight' column: {missing_data_weight }\")"
   ]
  },
  {
   "cell_type": "markdown",
   "id": "2324cd0d",
   "metadata": {
    "papermill": {
     "duration": 0.00708,
     "end_time": "2024-11-18T08:51:11.679515",
     "exception": false,
     "start_time": "2024-11-18T08:51:11.672435",
     "status": "completed"
    },
    "tags": []
   },
   "source": [
    "# 4. DISTRIBUTION GENDER"
   ]
  },
  {
   "cell_type": "code",
   "execution_count": 15,
   "id": "bca1fd4a",
   "metadata": {
    "execution": {
     "iopub.execute_input": "2024-11-18T08:51:11.696164Z",
     "iopub.status.busy": "2024-11-18T08:51:11.695740Z",
     "iopub.status.idle": "2024-11-18T08:51:11.705146Z",
     "shell.execute_reply": "2024-11-18T08:51:11.704066Z"
    },
    "papermill": {
     "duration": 0.020539,
     "end_time": "2024-11-18T08:51:11.707450",
     "exception": false,
     "start_time": "2024-11-18T08:51:11.686911",
     "status": "completed"
    },
    "tags": []
   },
   "outputs": [
    {
     "data": {
      "text/plain": [
       "gender\n",
       "Male      5655\n",
       "Female    5460\n",
       "Name: count, dtype: int64"
      ]
     },
     "execution_count": 15,
     "metadata": {},
     "output_type": "execute_result"
    }
   ],
   "source": [
    "distribution_gender = df['gender'].value_counts()\n",
    "distribution_gender"
   ]
  },
  {
   "cell_type": "markdown",
   "id": "088a6486",
   "metadata": {
    "papermill": {
     "duration": 0.007088,
     "end_time": "2024-11-18T08:51:11.721966",
     "exception": false,
     "start_time": "2024-11-18T08:51:11.714878",
     "status": "completed"
    },
    "tags": []
   },
   "source": [
    "# 5. COUNTRY WITH MORE ATHLETES"
   ]
  },
  {
   "cell_type": "code",
   "execution_count": 16,
   "id": "02d898f0",
   "metadata": {
    "execution": {
     "iopub.execute_input": "2024-11-18T08:51:11.740832Z",
     "iopub.status.busy": "2024-11-18T08:51:11.739630Z",
     "iopub.status.idle": "2024-11-18T08:51:11.748483Z",
     "shell.execute_reply": "2024-11-18T08:51:11.747112Z"
    },
    "papermill": {
     "duration": 0.021553,
     "end_time": "2024-11-18T08:51:11.750958",
     "exception": false,
     "start_time": "2024-11-18T08:51:11.729405",
     "status": "completed"
    },
    "tags": []
   },
   "outputs": [
    {
     "name": "stdout",
     "output_type": "stream",
     "text": [
      "Country with the most athletes: United States\n",
      "Total athletes: 620\n"
     ]
    }
   ],
   "source": [
    "country_athletes = df['country'].value_counts()\n",
    "\n",
    "summary_country_athletes_ = country_athletes.idxmax()\n",
    "summary_athletes = country_athletes.max()\n",
    "\n",
    "print(f\"Country with the most athletes: {summary_country_athletes_}\")\n",
    "print(f\"Total athletes: {summary_athletes}\")"
   ]
  },
  {
   "cell_type": "markdown",
   "id": "c9df64e7",
   "metadata": {
    "papermill": {
     "duration": 0.007228,
     "end_time": "2024-11-18T08:51:11.765967",
     "exception": false,
     "start_time": "2024-11-18T08:51:11.758739",
     "status": "completed"
    },
    "tags": []
   },
   "source": [
    "# 6. AVERAGE WEIGHT AND HEIGHT OF ATHLETES FOR EACH COUNTRY"
   ]
  },
  {
   "cell_type": "code",
   "execution_count": 17,
   "id": "636d3eeb",
   "metadata": {
    "execution": {
     "iopub.execute_input": "2024-11-18T08:51:11.783085Z",
     "iopub.status.busy": "2024-11-18T08:51:11.782622Z",
     "iopub.status.idle": "2024-11-18T08:51:11.798583Z",
     "shell.execute_reply": "2024-11-18T08:51:11.797210Z"
    },
    "papermill": {
     "duration": 0.027693,
     "end_time": "2024-11-18T08:51:11.801254",
     "exception": false,
     "start_time": "2024-11-18T08:51:11.773561",
     "status": "completed"
    },
    "tags": []
   },
   "outputs": [
    {
     "name": "stdout",
     "output_type": "stream",
     "text": [
      "                        height  weight\n",
      "country                               \n",
      "AIN                  39.718750     0.0\n",
      "Afghanistan          57.000000     0.0\n",
      "Albania              44.250000     0.0\n",
      "Algeria              59.195652     0.0\n",
      "American Samoa       76.000000     0.0\n",
      "...                        ...     ...\n",
      "Virgin Islands, B   129.250000     0.0\n",
      "Virgin Islands, US   36.000000     0.0\n",
      "Yemen                45.750000     0.0\n",
      "Zambia              147.322581     0.0\n",
      "Zimbabwe             49.428571     0.0\n",
      "\n",
      "[206 rows x 2 columns]\n"
     ]
    }
   ],
   "source": [
    "\n",
    "avg = df.groupby('country')[['height','weight']].mean()\n",
    "print(avg)\n"
   ]
  },
  {
   "cell_type": "markdown",
   "id": "2ec12eca",
   "metadata": {
    "papermill": {
     "duration": 0.007337,
     "end_time": "2024-11-18T08:51:11.816516",
     "exception": false,
     "start_time": "2024-11-18T08:51:11.809179",
     "status": "completed"
    },
    "tags": []
   },
   "source": [
    "# 7. AVERAGE AGE OF ATHLETES FOR EACH COUNTRY"
   ]
  },
  {
   "cell_type": "code",
   "execution_count": 18,
   "id": "e3d8dac9",
   "metadata": {
    "execution": {
     "iopub.execute_input": "2024-11-18T08:51:11.833761Z",
     "iopub.status.busy": "2024-11-18T08:51:11.833359Z",
     "iopub.status.idle": "2024-11-18T08:51:11.851903Z",
     "shell.execute_reply": "2024-11-18T08:51:11.850611Z"
    },
    "papermill": {
     "duration": 0.030177,
     "end_time": "2024-11-18T08:51:11.854342",
     "exception": false,
     "start_time": "2024-11-18T08:51:11.824165",
     "status": "completed"
    },
    "tags": []
   },
   "outputs": [
    {
     "name": "stdout",
     "output_type": "stream",
     "text": [
      "The average age of athletes for each country is:26.88\n"
     ]
    }
   ],
   "source": [
    "df['birth_date'] = pd.to_datetime(df['birth_date']) #datetime64[ns]\n",
    "\n",
    "df['years'] = (pd.Timestamp.today() - df['birth_date']).dt.days // 365 #int64\n",
    "\n",
    "avg_years = df['years'].mean()\n",
    "\n",
    "print(f\"The average age of athletes for each country is:{avg_years.round(2)}\")\n",
    "\n",
    "\n",
    "\n"
   ]
  },
  {
   "cell_type": "markdown",
   "id": "b6d12cbe",
   "metadata": {
    "papermill": {
     "duration": 0.007388,
     "end_time": "2024-11-18T08:51:11.869738",
     "exception": false,
     "start_time": "2024-11-18T08:51:11.862350",
     "status": "completed"
    },
    "tags": []
   },
   "source": [
    "# 8. AVERAGE AGE IN WOMENS AND MAN OF ATHLETES"
   ]
  },
  {
   "cell_type": "code",
   "execution_count": 19,
   "id": "05818a3e",
   "metadata": {
    "execution": {
     "iopub.execute_input": "2024-11-18T08:51:11.887616Z",
     "iopub.status.busy": "2024-11-18T08:51:11.887189Z",
     "iopub.status.idle": "2024-11-18T08:51:11.899746Z",
     "shell.execute_reply": "2024-11-18T08:51:11.898371Z"
    },
    "papermill": {
     "duration": 0.024606,
     "end_time": "2024-11-18T08:51:11.902379",
     "exception": false,
     "start_time": "2024-11-18T08:51:11.877773",
     "status": "completed"
    },
    "tags": []
   },
   "outputs": [
    {
     "data": {
      "text/plain": [
       "gender\n",
       "Female    26.509158\n",
       "Male      27.242087\n",
       "Name: years, dtype: float64"
      ]
     },
     "execution_count": 19,
     "metadata": {},
     "output_type": "execute_result"
    }
   ],
   "source": [
    "avg_w_m = df.groupby('gender')['years'].mean()\n",
    "avg_w_m\n",
    "\n"
   ]
  },
  {
   "cell_type": "markdown",
   "id": "95ff3a59",
   "metadata": {
    "papermill": {
     "duration": 0.007992,
     "end_time": "2024-11-18T08:51:11.918292",
     "exception": false,
     "start_time": "2024-11-18T08:51:11.910300",
     "status": "completed"
    },
    "tags": []
   },
   "source": [
    "# 9. Generate a bar chart showing the number of athletes from each country"
   ]
  },
  {
   "cell_type": "code",
   "execution_count": 20,
   "id": "f83ea0e8",
   "metadata": {
    "execution": {
     "iopub.execute_input": "2024-11-18T08:51:11.936170Z",
     "iopub.status.busy": "2024-11-18T08:51:11.935191Z",
     "iopub.status.idle": "2024-11-18T08:51:12.314986Z",
     "shell.execute_reply": "2024-11-18T08:51:12.313870Z"
    },
    "papermill": {
     "duration": 0.391324,
     "end_time": "2024-11-18T08:51:12.317399",
     "exception": false,
     "start_time": "2024-11-18T08:51:11.926075",
     "status": "completed"
    },
    "tags": []
   },
   "outputs": [
    {
     "name": "stderr",
     "output_type": "stream",
     "text": [
      "C:\\Users\\Antonio Palau Pamies\\AppData\\Local\\Temp\\ipykernel_17644\\4283110848.py:9: FutureWarning: \n",
      "\n",
      "Passing `palette` without assigning `hue` is deprecated and will be removed in v0.14.0. Assign the `x` variable to `hue` and set `legend=False` for the same effect.\n",
      "\n",
      "  barplot = sns.barplot(data=ath_10, x='country', y='number_of_athletes', palette='cubehelix', edgecolor='black')\n"
     ]
    },
    {
     "data": {
      "image/png": "[encoded data removed]",
      "text/plain": [
       "<Figure size 1000x600 with 1 Axes>"
      ]
     },
     "metadata": {},
     "output_type": "display_data"
    }
   ],
   "source": [
    "athletes_10_countrys = df['country'].value_counts()\n",
    "\n",
    "ath_10_coun= athletes_10_countrys.head(10)\n",
    "\n",
    "ath_10 = ath_10_coun.reset_index()\n",
    "ath_10.columns=['country', 'number_of_athletes']\n",
    "\n",
    "plt.figure(figsize=(10, 6))\n",
    "barplot = sns.barplot(data=ath_10, x='country', y='number_of_athletes', palette='cubehelix', edgecolor='black')\n",
    "for index, row in ath_10.iterrows():\n",
    "    barplot.text(index, row['number_of_athletes'] + 5, str(row['number_of_athletes']), color='black', ha='center')\n",
    "plt.title('Number of Athletes from Top 10 Countries')\n",
    "plt.xlabel('Country')\n",
    "plt.ylabel('Number of Athletes')\n",
    "plt.xticks(rotation=45, ha='right')\n",
    "plt.tight_layout()\n",
    "plt.show()\n"
   ]
  },
  {
   "cell_type": "markdown",
   "id": "b0f737ba",
   "metadata": {
    "papermill": {
     "duration": 0.008711,
     "end_time": "2024-11-18T08:51:12.334832",
     "exception": false,
     "start_time": "2024-11-18T08:51:12.326121",
     "status": "completed"
    },
    "tags": []
   },
   "source": [
    "# 10. Plot a pie chart to represent the proportion of athletes by top 10 country\n"
   ]
  },
  {
   "cell_type": "code",
   "execution_count": 22,
   "id": "ad09913b",
   "metadata": {
    "execution": {
     "iopub.execute_input": "2024-11-18T08:51:12.353514Z",
     "iopub.status.busy": "2024-11-18T08:51:12.353072Z",
     "iopub.status.idle": "2024-11-18T08:51:12.655030Z",
     "shell.execute_reply": "2024-11-18T08:51:12.653776Z"
    },
    "papermill": {
     "duration": 0.316255,
     "end_time": "2024-11-18T08:51:12.659494",
     "exception": false,
     "start_time": "2024-11-18T08:51:12.343239",
     "status": "completed"
    },
    "tags": []
   },
   "outputs": [
    {
     "data": {
      "image/png": "[encoded data removed]",
      "text/plain": [
       "<Figure size 1000x450 with 1 Axes>"
      ]
     },
     "metadata": {},
     "output_type": "display_data"
    }
   ],
   "source": [
    "ath_10_coun= athletes_10_countrys.head(10) #Select the top 10 countries\n",
    "colors_list=['gold', 'yellowgreen', 'lightcoral', 'lightskyblue', 'lightgreen', 'pink'] #Colors of the diagram\n",
    "\n",
    "plt.figure(figsize=(10, 4.5))\n",
    "plt.pie(ath_10_coun, labels=ath_10_coun.index, autopct='%1.1f%%', startangle=140, colors= colors_list) #Select the data \"ath_10_coun\" to made the diagram\n",
    "\n",
    "\n",
    "plt.legend(labels= ath_10_coun.index, loc='upper right') #bbox_to_anchor=(1.40, 1) We can modify the legend size with this code\n",
    "plt.title('Proportion of athletes per country',y=1.2) \n",
    "plt.axis('equal')\n",
    "plt.show()"
   ]
  }
 ],
 "metadata": {
  "kaggle": {
   "accelerator": "none",
   "dataSources": [
    {
     "datasetId": 5549809,
     "sourceId": 9181952,
     "sourceType": "datasetVersion"
    }
   ],
   "dockerImageVersionId": 30786,
   "isGpuEnabled": false,
   "isInternetEnabled": false,
   "language": "python",
   "sourceType": "notebook"
  },
  "kernelspec": {
   "display_name": "Python 3",
   "language": "python",
   "name": "python3"
  },
  "language_info": {
   "codemirror_mode": {
    "name": "ipython",
    "version": 3
   },
   "file_extension": ".py",
   "mimetype": "text/x-python",
   "name": "python",
   "nbconvert_exporter": "python",
   "pygments_lexer": "ipython3",
   "version": "3.12.7"
  },
  "papermill": {
   "default_parameters": {},
   "duration": 7.748884,
   "end_time": "2024-11-18T08:51:13.298025",
   "environment_variables": {},
   "exception": null,
   "input_path": "__notebook__.ipynb",
   "output_path": "__notebook__.ipynb",
   "parameters": {},
   "start_time": "2024-11-18T08:51:05.549141",
   "version": "2.6.0"
  }
 },
 "nbformat": 4,
 "nbformat_minor": 5
}
